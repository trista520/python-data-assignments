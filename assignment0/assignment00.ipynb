{
 "cells": [
  {
   "cell_type": "code",
   "execution_count": 4,
   "metadata": {},
   "outputs": [
    {
     "name": "stdout",
     "output_type": "stream",
     "text": [
      "C:\\Users\\tttin\\python-data-assignments\\assignment0\n"
     ]
    }
   ],
   "source": [
    "cd C:\\Users\\tttin\\python-data-assignments\\assignment0"
   ]
  },
  {
   "cell_type": "code",
   "execution_count": 2,
   "metadata": {},
   "outputs": [],
   "source": [
    "import csv\n",
    "import re\n",
    "\n",
    "articles=['trade-wars-news1.txt',\n",
    "         'trade-wars-news2.txt',\n",
    "         'trade-wars-news3.txt',\n",
    "         'trade-wars-news4.txt',\n",
    "         'trade-wars-news5.txt']\n",
    "for article in articles:\n",
    "    with open(article,'r',encoding='UTF-8') as f:\n",
    "        content = f.read().lower()  \n",
    "first_erase = re.sub(\"\\W\",' ',content) \n",
    "second_erase = re.sub(\"\\d+\",'',first_erase)\n",
    "final= second_erase.split()"
   ]
  },
  {
   "cell_type": "code",
   "execution_count": 14,
   "metadata": {},
   "outputs": [],
   "source": [
    "count_words = {}\n",
    "for i in final: \n",
    "    count_words[i] = final.count(i)  \n",
    "#count_words"
   ]
  },
  {
   "cell_type": "code",
   "execution_count": 15,
   "metadata": {},
   "outputs": [
    {
     "data": {
      "text/plain": [
       "[('the', 78),\n",
       " ('to', 36),\n",
       " ('china', 27),\n",
       " ('and', 24),\n",
       " ('a', 23),\n",
       " ('s', 17),\n",
       " ('in', 16),\n",
       " ('of', 16),\n",
       " ('us', 14),\n",
       " ('is', 13),\n",
       " ('as', 11),\n",
       " ('from', 10),\n",
       " ('war', 9),\n",
       " ('trump', 9),\n",
       " ('that', 9)]"
      ]
     },
     "execution_count": 15,
     "metadata": {},
     "output_type": "execute_result"
    }
   ],
   "source": [
    "sort_words = sorted(count_words.items(), key = lambda count:count[1], reverse=True)\n",
    "results = sort_words[:15] \n",
    "results  "
   ]
  },
  {
   "cell_type": "code",
   "execution_count": 16,
   "metadata": {},
   "outputs": [],
   "source": [
    "filename = 'assignment00.csv'\n",
    "with open(filename, 'w', newline='') as f:\n",
    "    my_writer = csv.writer(f)\n",
    "    header = ['keyword', 'frequency']\n",
    "    my_writer.writerow(header)\n",
    "    my_writer.writerows(results)"
   ]
  },
  {
   "cell_type": "code",
   "execution_count": null,
   "metadata": {},
   "outputs": [],
   "source": []
  }
 ],
 "metadata": {
  "kernelspec": {
   "display_name": "Python 3",
   "language": "python",
   "name": "python3"
  },
  "language_info": {
   "codemirror_mode": {
    "name": "ipython",
    "version": 3
   },
   "file_extension": ".py",
   "mimetype": "text/x-python",
   "name": "python",
   "nbconvert_exporter": "python",
   "pygments_lexer": "ipython3",
   "version": "3.6.5"
  }
 },
 "nbformat": 4,
 "nbformat_minor": 2
}
